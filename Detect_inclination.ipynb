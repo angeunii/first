{
 "cells": [
  {
   "cell_type": "code",
   "execution_count": 4,
   "id": "ff5eb88b",
   "metadata": {
    "scrolled": true
   },
   "outputs": [
    {
     "name": "stdout",
     "output_type": "stream",
     "text": [
      "Collecting opencv-python\n",
      "  Downloading opencv_python-4.7.0.68-cp37-abi3-win_amd64.whl (38.2 MB)\n",
      "Requirement already satisfied: numpy>=1.17.0 in c:\\users\\ose06\\anaconda3\\lib\\site-packages (from opencv-python) (1.21.5)\n",
      "Installing collected packages: opencv-python\n",
      "Successfully installed opencv-python-4.7.0.68\n"
     ]
    }
   ],
   "source": [
    "!pip install opencv-python"
   ]
  },
  {
   "cell_type": "code",
   "execution_count": 2,
   "id": "c13da2f0",
   "metadata": {},
   "outputs": [],
   "source": [
    "import numpy as np\n",
    "import cv2"
   ]
  },
  {
   "cell_type": "code",
   "execution_count": 23,
   "id": "b688594c",
   "metadata": {},
   "outputs": [
    {
     "name": "stdout",
     "output_type": "stream",
     "text": [
      "[[255 255 255 ... 255 255 255]\n",
      " [255 255 255 ... 255 255 255]\n",
      " [255 255 255 ... 255 255 255]\n",
      " ...\n",
      " [255 255 255 ... 255 255 255]\n",
      " [255 255 255 ... 255 255 255]\n",
      " [255 255 255 ... 255 255 255]]\n",
      "150.0\n",
      "[[0 0 0 ... 0 0 0]\n",
      " [0 0 0 ... 0 0 0]\n",
      " [0 0 0 ... 0 0 0]\n",
      " ...\n",
      " [0 0 0 ... 0 0 0]\n",
      " [0 0 0 ... 0 0 0]\n",
      " [0 0 0 ... 0 0 0]]\n"
     ]
    }
   ],
   "source": [
    "#이미지파일 불러오기\n",
    "write = cv2.imread('./test1.jpg', cv2.IMREAD_COLOR)\n",
    "#이미지파일을 그레이스케일로\n",
    "write_gray = cv2.cvtColor(write, cv2.COLOR_BGR2GRAY)\n",
    "#이미지를 이진수로 변환한듯?\n",
    "ret, thresh = cv2.threshold(write_gray, 150, 255, cv2.THRESH_BINARY_INV)\n",
    "\n",
    "#출력해서 무슨값인지 알기\n",
    "print(write_gray)\n",
    "print(ret)\n",
    "print(thresh)\n",
    "\n",
    "#thresh 이미지는 영역반전 이미지였음. 마스크 같이\n",
    "cv2.imshow('resultat', thresh)\n",
    "cv2.waitKey(0)\n",
    "cv2.destroyAllWindows()"
   ]
  },
  {
   "cell_type": "code",
   "execution_count": 22,
   "id": "0a90e6ed",
   "metadata": {},
   "outputs": [
    {
     "name": "stdout",
     "output_type": "stream",
     "text": [
      "[[0 0 0 ... 0 0 0]\n",
      " [0 0 0 ... 0 0 0]\n",
      " [0 0 0 ... 0 0 0]\n",
      " ...\n",
      " [0 0 0 ... 0 0 0]\n",
      " [0 0 0 ... 0 0 0]\n",
      " [0 0 0 ... 0 0 0]]\n",
      "(array([[[301, 616]],\n",
      "\n",
      "       [[300, 617]],\n",
      "\n",
      "       [[299, 617]],\n",
      "\n",
      "       ...,\n",
      "\n",
      "       [[311, 617]],\n",
      "\n",
      "       [[309, 617]],\n",
      "\n",
      "       [[308, 616]]], dtype=int32), array([[[677, 342]],\n",
      "\n",
      "       [[676, 343]],\n",
      "\n",
      "       [[674, 343]],\n",
      "\n",
      "       ...,\n",
      "\n",
      "       [[693, 343]],\n",
      "\n",
      "       [[691, 343]],\n",
      "\n",
      "       [[690, 342]]], dtype=int32), array([[[291, 177]],\n",
      "\n",
      "       [[290, 178]],\n",
      "\n",
      "       [[289, 178]],\n",
      "\n",
      "       ...,\n",
      "\n",
      "       [[305, 191]],\n",
      "\n",
      "       [[305, 181]],\n",
      "\n",
      "       [[301, 177]]], dtype=int32))\n",
      "[[[ 1 -1 -1 -1]\n",
      "  [ 2  0 -1 -1]\n",
      "  [-1  1 -1 -1]]]\n"
     ]
    }
   ],
   "source": [
    "# dilate the write\n",
    "elem = cv2.getStructuringElement(cv2.MORPH_RECT, (4, 4), (2, 2))\n",
    "dilat = cv2.dilate(thresh, elem, iterations=1) #이것도 마스크처럼 생겼는데\n",
    "contours, hierarchy = cv2.findContours(dilat, cv2.RETR_EXTERNAL, cv2.CHAIN_APPROX_SIMPLE)\n",
    "\n",
    "print(dilat)\n",
    "print(contours)\n",
    "print(hierarchy)\n",
    "#이미지에서 무슨 정보인가봄 찾아봐야겠다."
   ]
  },
  {
   "cell_type": "code",
   "execution_count": 26,
   "id": "5ee2ee0d",
   "metadata": {},
   "outputs": [
    {
     "name": "stdout",
     "output_type": "stream",
     "text": [
      "4.13608980178833\n",
      "78.06439971923828\n",
      "1.9687672853469849\n"
     ]
    }
   ],
   "source": [
    "for cnt in contours:\n",
    "    if cv2.contourArea(cnt) > 1600: # only keep the writing text\n",
    "        box = cv2.minAreaRect(cnt)\n",
    "        (pos, size, angle) = box\n",
    "        box = cv2.boxPoints(box)\n",
    "        box = np.int0(box)\n",
    "        cv2.drawContours(write, [box], 0, (0,255,0), 2)\n",
    "        angle = angle if size[0] > size[1] else angle + 90\n",
    "        pos = (cnt[cnt[:, :, 0].argmin()][0][0], cnt[cnt[:, :, 1].argmin()][0][1])\n",
    "        print(angle)\n",
    "        if -2 <= angle <= 2:\n",
    "            cv2.putText(write, 'Level', pos, cv2.FONT_HERSHEY_SIMPLEX, 0.7, (190, 123, 68), 2)\n",
    "        elif angle < -2:\n",
    "            cv2.putText(write, 'Ascending', pos, cv2.FONT_HERSHEY_SIMPLEX, 0.7, (190, 123, 68), 2)\n",
    "        elif 2 < angle:\n",
    "            cv2.putText(write, 'Descending', pos, cv2.FONT_HERSHEY_SIMPLEX, 0.7, (190, 123, 68), 2)\n",
    "\n",
    "cv2.imshow('resultat', write)\n",
    "\n",
    "#계속 응답없음 일때 해결법\n",
    "cv2.waitKey(0)\n",
    "cv2.destroyAllWindows()"
   ]
  },
  {
   "cell_type": "code",
   "execution_count": 26,
   "id": "66a32fd0",
   "metadata": {},
   "outputs": [
    {
     "name": "stdout",
     "output_type": "stream",
     "text": [
      "0.0\n",
      "-1.1232986450195312\n",
      "90.0\n",
      "90.0\n",
      "1.4912837743759155\n",
      "86.18592071533203\n",
      "8.56914234161377\n",
      "7.628149032592773\n",
      "-82.52844095230103\n",
      "66.80140686035156\n",
      "-9.398239135742188\n"
     ]
    }
   ],
   "source": [
    "write = cv2.imread('./line_eng2.jpg', cv2.IMREAD_COLOR)\n",
    "write_gray = cv2.cvtColor(write, cv2.COLOR_BGR2GRAY)\n",
    "ret, thresh = cv2.threshold(write_gray, 150, 255, cv2.THRESH_BINARY_INV)\n",
    "\n",
    "# dilate the write\n",
    "elem = cv2.getStructuringElement(cv2.MORPH_RECT, (4, 4), (2, 2))\n",
    "dilat = cv2.dilate(thresh, elem, iterations=1)\n",
    "contours, hierarchy = cv2.findContours(dilat, cv2.RETR_EXTERNAL, cv2.CHAIN_APPROX_SIMPLE)\n",
    "\n",
    "for cnt in contours:\n",
    "    if cv2.contourArea(cnt) > 1600: # only keep the writing text\n",
    "        box = cv2.minAreaRect(cnt)\n",
    "        (pos, size, angle) = box\n",
    "        box = cv2.boxPoints(box)\n",
    "        box = np.int0(box)\n",
    "        cv2.drawContours(write, [box], 0, (0,255,0), 2)\n",
    "        angle = angle if size[0] > size[1] else angle - 90\n",
    "        pos = (cnt[cnt[:, :, 0].argmin()][0][0], cnt[cnt[:, :, 1].argmin()][0][1])\n",
    "        print(angle)\n",
    "        if -2 <= angle <= 2:\n",
    "            cv2.putText(write, 'Level', pos, cv2.FONT_HERSHEY_SIMPLEX, 0.7, (190, 123, 68), 2)\n",
    "        elif angle < -2:\n",
    "            cv2.putText(write, 'Ascending', pos, cv2.FONT_HERSHEY_SIMPLEX, 0.7, (190, 123, 68), 2)\n",
    "        elif 2 < angle:\n",
    "            cv2.putText(write, 'Descending', pos, cv2.FONT_HERSHEY_SIMPLEX, 0.7, (190, 123, 68), 2)\n",
    "\n",
    "cv2.imshow('resultat', write)\n",
    "\n",
    "#계속 응답없음 일때 해결법\n",
    "cv2.waitKey(0)\n",
    "cv2.destroyAllWindows()"
   ]
  },
  {
   "cell_type": "code",
   "execution_count": null,
   "id": "6ddb4c35",
   "metadata": {},
   "outputs": [],
   "source": []
  }
 ],
 "metadata": {
  "kernelspec": {
   "display_name": "Python 3 (ipykernel)",
   "language": "python",
   "name": "python3"
  },
  "language_info": {
   "codemirror_mode": {
    "name": "ipython",
    "version": 3
   },
   "file_extension": ".py",
   "mimetype": "text/x-python",
   "name": "python",
   "nbconvert_exporter": "python",
   "pygments_lexer": "ipython3",
   "version": "3.9.12"
  }
 },
 "nbformat": 4,
 "nbformat_minor": 5
}
